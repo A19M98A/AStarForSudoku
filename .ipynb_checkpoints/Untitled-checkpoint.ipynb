{
 "cells": [
  {
   "cell_type": "code",
   "execution_count": 1,
   "metadata": {},
   "outputs": [],
   "source": [
    "class Node:\n",
    "    Page = [[0,0,0,0,0,0,0,0] for i in range(8)]\n",
    "    f = 0\n",
    "    h = 0"
   ]
  },
  {
   "cell_type": "code",
   "execution_count": 2,
   "metadata": {},
   "outputs": [],
   "source": [
    "def printPage(page):\n",
    "    print('----------------------')\n",
    "    for i in range(8):\n",
    "        s = ''\n",
    "        for j in range(8):\n",
    "            s += str(page[i][j]) + ' '\n",
    "        print(s)"
   ]
  },
  {
   "cell_type": "code",
   "execution_count": 3,
   "metadata": {},
   "outputs": [],
   "source": [
    "def checkExistence(Page):\n",
    "#     return False\n",
    "#     for node in openList:\n",
    "#         if checkSame(node.Page, Page):\n",
    "#             return True\n",
    "    for node in closedList:\n",
    "        if checkSame(node.Page, Page):\n",
    "            return True\n",
    "    return False"
   ]
  },
  {
   "cell_type": "code",
   "execution_count": 4,
   "metadata": {},
   "outputs": [],
   "source": [
    "def checkSame(Page1, Page2):\n",
    "    for i in range(8):\n",
    "            for j in range(8):\n",
    "                if Page1[i][j] != Page2[i][j]:\n",
    "                    return False\n",
    "    return True"
   ]
  },
  {
   "cell_type": "code",
   "execution_count": 5,
   "metadata": {},
   "outputs": [],
   "source": [
    "def findH(Page):\n",
    "    Collision = 0\n",
    "    for i in range(8):\n",
    "        for j in range(8):\n",
    "            if Page[i][j] != 0:\n",
    "                for p in range(1, 8):\n",
    "                    if i - p >= 0 and Page[i][j] == 1:\n",
    "                        if Page[i - p][j] != 0:\n",
    "                            Collision += 1\n",
    "                    if i + p < 8 and Page[i][j] == 1:\n",
    "                        if Page[i + p][j] != 0:\n",
    "                            Collision += 1\n",
    "                    if j - p >= 0 and Page[i][j] == 1:\n",
    "                        if Page[i][j - p] != 0:\n",
    "                            Collision += 1\n",
    "                    if j + p < 8 and Page[i][j] == 1:\n",
    "                        if Page[i][j + p] != 0:\n",
    "                            Collision += 1\n",
    "                    if i - p >= 0 and j - p >= 0:\n",
    "                        if Page[i - p][j - p] != 0:\n",
    "                            Collision += 1\n",
    "                    if i - p >= 0 and j + p < 8:\n",
    "                        if Page[i - p][j + p] != 0:\n",
    "                            Collision += 1\n",
    "                    if i + p < 8 and j - p >= 0:\n",
    "                        if Page[i + p][j - p] != 0:\n",
    "                            Collision += 1\n",
    "                    if i + p < 8 and j + p < 8:\n",
    "                        if Page[i + p][j + p] != 0:\n",
    "                            Collision += 1\n",
    "    return Collision"
   ]
  },
  {
   "cell_type": "code",
   "execution_count": 6,
   "metadata": {},
   "outputs": [],
   "source": [
    "def copyMatris(ParentPage):\n",
    "    Page = [[0,0,0,0,0,0,0,0] for i in range(8)]\n",
    "    for i in range(8):\n",
    "        for j in range(8):\n",
    "            Page[i][j] = ParentPage[i][j]\n",
    "    return Page"
   ]
  },
  {
   "cell_type": "code",
   "execution_count": 7,
   "metadata": {},
   "outputs": [],
   "source": [
    "def extendQueenUp(ParentNode, i, j):\n",
    "    for move in range(1, 8):\n",
    "        if i - move >= 0:\n",
    "            if ParentNode.Page[i - move][j] == 0:\n",
    "                node = Node()\n",
    "                node.Page = copyMatris(ParentNode.Page)\n",
    "                node.Page[i][j] = 0\n",
    "                node.Page[i - move][j] = 1\n",
    "                node.f = ParentNode.f + 1\n",
    "                node.h = findH(node.Page)\n",
    "                openList.append(node)\n",
    "            else:\n",
    "                return"
   ]
  },
  {
   "cell_type": "code",
   "execution_count": 8,
   "metadata": {},
   "outputs": [],
   "source": [
    "def extendQueenDown(ParentNode, i, j):\n",
    "    for move in range(1, 8):\n",
    "        if i + move < 8:\n",
    "            if ParentNode.Page[i + move][j] == 0:\n",
    "                node = Node()\n",
    "                node.Page = copyMatris(ParentNode.Page)\n",
    "                node.Page[i][j] = 0\n",
    "                node.Page[i + move][j] = 1\n",
    "                node.f = ParentNode.f + 1\n",
    "                node.h = findH(node.Page)\n",
    "                openList.append(node)\n",
    "            else:\n",
    "                return"
   ]
  },
  {
   "cell_type": "code",
   "execution_count": 9,
   "metadata": {},
   "outputs": [],
   "source": [
    "def extendQueenLeft(ParentNode, i, j):\n",
    "    for move in range(1, 8):\n",
    "        if j - move >= 0:\n",
    "            if ParentNode.Page[i][j - move] == 0:\n",
    "                node = Node()\n",
    "                node.Page = copyMatris(ParentNode.Page)\n",
    "                node.Page[i][j] = 0\n",
    "                node.Page[i][j - move] = 1\n",
    "                node.f = ParentNode.f + 1\n",
    "                node.h = findH(node.Page)\n",
    "                openList.append(node)\n",
    "            else:\n",
    "                return"
   ]
  },
  {
   "cell_type": "code",
   "execution_count": 10,
   "metadata": {},
   "outputs": [],
   "source": [
    "def extendQueenRight(ParentNode, i, j):\n",
    "    for move in range(1, 8):\n",
    "        if j + move < 8:\n",
    "            if ParentNode.Page[i][j + move] == 0:\n",
    "                node = Node()\n",
    "                node.Page = copyMatris(ParentNode.Page)\n",
    "                node.Page[i][j] = 0\n",
    "                node.Page[i][j + move] = 1\n",
    "                node.f = ParentNode.f + 1\n",
    "                node.h = findH(node.Page)\n",
    "                openList.append(node)\n",
    "            else:\n",
    "                return"
   ]
  },
  {
   "cell_type": "code",
   "execution_count": 11,
   "metadata": {},
   "outputs": [],
   "source": [
    "def extendUpRight(ParentNode, i, j):\n",
    "    for move in range(1, 8):\n",
    "        if i - move >= 0 and j + move < 8:\n",
    "            if ParentNode.Page[i - move][j + move] == 0:\n",
    "                node = Node()\n",
    "                node.Page = copyMatris(ParentNode.Page)\n",
    "                node.Page[i - move][j + move] = node.Page[i][j]\n",
    "                node.Page[i][j] = 0\n",
    "                node.f = ParentNode.f + 1\n",
    "                node.h = findH(node.Page)\n",
    "                openList.append(node)\n",
    "            else:\n",
    "                return"
   ]
  },
  {
   "cell_type": "code",
   "execution_count": 12,
   "metadata": {},
   "outputs": [],
   "source": [
    "def extendUpLeft(ParentNode, i, j):\n",
    "    for move in range(1, 8):\n",
    "        if i - move >= 0 and j - move >= 0:\n",
    "            if ParentNode.Page[i - move][j - move] == 0:\n",
    "                node = Node()\n",
    "                node.Page = copyMatris(ParentNode.Page)\n",
    "                node.Page[i - move][j - move] = node.Page[i][j]\n",
    "                node.Page[i][j] = 0\n",
    "                node.f = ParentNode.f + 1\n",
    "                node.h = findH(node.Page)\n",
    "                openList.append(node)\n",
    "            else:\n",
    "                return"
   ]
  },
  {
   "cell_type": "code",
   "execution_count": 13,
   "metadata": {},
   "outputs": [],
   "source": [
    "def extendDownRight(ParentNode, i, j):\n",
    "    for move in range(1, 8):\n",
    "        if i + move < 8 and j + move < 8:\n",
    "            if ParentNode.Page[i + move][j + move] == 0:\n",
    "                node = Node()\n",
    "                node.Page = copyMatris(ParentNode.Page)\n",
    "                node.Page[i + move][j + move] = node.Page[i][j]\n",
    "                node.Page[i][j] = 0\n",
    "                node.f = ParentNode.f + 1\n",
    "                node.h = findH(node.Page)\n",
    "                openList.append(node)\n",
    "            else:\n",
    "                return"
   ]
  },
  {
   "cell_type": "code",
   "execution_count": 14,
   "metadata": {},
   "outputs": [],
   "source": [
    "def extendDownLeft(ParentNode, i, j):\n",
    "    for move in range(1, 8):\n",
    "        if i + move < 8 and j - move >= 0:\n",
    "            if ParentNode.Page[i + move][j - move] == 0:\n",
    "                node = Node()\n",
    "                node.Page = copyMatris(ParentNode.Page)\n",
    "                node.Page[i + move][j - move] = node.Page[i][j]\n",
    "                node.Page[i][j] = 0\n",
    "                node.f = ParentNode.f + 1\n",
    "                node.h = findH(node.Page)\n",
    "                openList.append(node)\n",
    "            else:\n",
    "                return"
   ]
  },
  {
   "cell_type": "code",
   "execution_count": 18,
   "metadata": {},
   "outputs": [],
   "source": [
    "def extend(ParentNode):\n",
    "    if checkExistence(ParentNode.Page):\n",
    "                    return\n",
    "    for i in range(8):\n",
    "        for j in range(8):\n",
    "            if ParentNode.Page[i][j] != 0:\n",
    "                extendUpLeft(ParentNode, i, j)\n",
    "                extendUpRight(ParentNode, i, j)\n",
    "                extendDownLeft(ParentNode, i, j)\n",
    "                extendDownRight(ParentNode, i, j)\n",
    "            if ParentNode.Page[i][j] == 1:\n",
    "                extendQueenUp(ParentNode, i, j)\n",
    "                extendQueenDown(ParentNode, i, j)\n",
    "                extendQueenLeft(ParentNode, i, j)\n",
    "                extendQueenRight(ParentNode, i, j)"
   ]
  },
  {
   "cell_type": "code",
   "execution_count": 21,
   "metadata": {},
   "outputs": [
    {
     "ename": "KeyboardInterrupt",
     "evalue": "",
     "output_type": "error",
     "traceback": [
      "\u001b[0;31m---------------------------------------------------------------------------\u001b[0m",
      "\u001b[0;31mKeyboardInterrupt\u001b[0m                         Traceback (most recent call last)",
      "\u001b[0;32m<ipython-input-21-9ca4446544c1>\u001b[0m in \u001b[0;36m<module>\u001b[0;34m\u001b[0m\n\u001b[1;32m     16\u001b[0m         \u001b[0mminNode\u001b[0m \u001b[0;34m=\u001b[0m \u001b[0mopenList\u001b[0m\u001b[0;34m[\u001b[0m\u001b[0;36m0\u001b[0m\u001b[0;34m]\u001b[0m\u001b[0;34m\u001b[0m\u001b[0;34m\u001b[0m\u001b[0m\n\u001b[1;32m     17\u001b[0m         \u001b[0;32mfor\u001b[0m \u001b[0mnode\u001b[0m \u001b[0;32min\u001b[0m \u001b[0mopenList\u001b[0m\u001b[0;34m:\u001b[0m\u001b[0;34m\u001b[0m\u001b[0;34m\u001b[0m\u001b[0m\n\u001b[0;32m---> 18\u001b[0;31m             \u001b[0;32mif\u001b[0m \u001b[0mminNode\u001b[0m\u001b[0;34m.\u001b[0m\u001b[0mh\u001b[0m \u001b[0;34m+\u001b[0m \u001b[0mminNode\u001b[0m\u001b[0;34m.\u001b[0m\u001b[0mf\u001b[0m \u001b[0;34m>\u001b[0m \u001b[0mnode\u001b[0m\u001b[0;34m.\u001b[0m\u001b[0mh\u001b[0m \u001b[0;34m+\u001b[0m \u001b[0mnode\u001b[0m\u001b[0;34m.\u001b[0m\u001b[0mf\u001b[0m\u001b[0;34m:\u001b[0m\u001b[0;34m\u001b[0m\u001b[0;34m\u001b[0m\u001b[0m\n\u001b[0m\u001b[1;32m     19\u001b[0m                 \u001b[0mminNode\u001b[0m \u001b[0;34m=\u001b[0m \u001b[0mnode\u001b[0m\u001b[0;34m\u001b[0m\u001b[0;34m\u001b[0m\u001b[0m\n\u001b[1;32m     20\u001b[0m         \u001b[0mopenList\u001b[0m\u001b[0;34m.\u001b[0m\u001b[0mremove\u001b[0m\u001b[0;34m(\u001b[0m\u001b[0mminNode\u001b[0m\u001b[0;34m)\u001b[0m\u001b[0;34m\u001b[0m\u001b[0;34m\u001b[0m\u001b[0m\n",
      "\u001b[0;31mKeyboardInterrupt\u001b[0m: "
     ]
    }
   ],
   "source": [
    "for f in range(101):\n",
    "    f = open(\"inputs/input\" + str(f) + \".txt\", \"r\")\n",
    "    lines = f.read().split('\\n')\n",
    "    Page = [[0,0,0,0,0,0,0,0] for i in range(8)]\n",
    "    for i in range(8):\n",
    "        for j in range(8):\n",
    "            Page[i][j] = int(lines[i].split(' ')[j])\n",
    "    openList = []\n",
    "    closedList = []\n",
    "    node = Node()\n",
    "    node.Page = Page\n",
    "    node.h = findH(Page)\n",
    "    node.f = 0\n",
    "    openList.append(node)\n",
    "    while len(openList) > 0:\n",
    "        minNode = openList[0]\n",
    "        for node in openList:\n",
    "            if minNode.h + minNode.f > node.h + node.f:\n",
    "                minNode = node\n",
    "        openList.remove(minNode)\n",
    "        if minNode.h == 0:\n",
    "            print(\"\\nf: \" + str(minNode.f))\n",
    "            print(\"h: \" + str(minNode.h))\n",
    "            print(\"nodes: \" + str(len(openList) + len(closedList)))\n",
    "            printPage(minNode.Page)\n",
    "            break\n",
    "        extend(minNode)\n",
    "        closedList.append(minNode)"
   ]
  },
  {
   "cell_type": "code",
   "execution_count": null,
   "metadata": {},
   "outputs": [],
   "source": []
  }
 ],
 "metadata": {
  "kernelspec": {
   "display_name": "Python 3",
   "language": "python",
   "name": "python3"
  },
  "language_info": {
   "codemirror_mode": {
    "name": "ipython",
    "version": 3
   },
   "file_extension": ".py",
   "mimetype": "text/x-python",
   "name": "python",
   "nbconvert_exporter": "python",
   "pygments_lexer": "ipython3",
   "version": "3.8.1"
  }
 },
 "nbformat": 4,
 "nbformat_minor": 4
}
